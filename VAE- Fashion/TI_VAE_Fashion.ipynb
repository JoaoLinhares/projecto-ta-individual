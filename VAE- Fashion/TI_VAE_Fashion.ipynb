{
  "nbformat": 4,
  "nbformat_minor": 0,
  "metadata": {
    "colab": {
      "name": "TI_VAE_Fashion.ipynb",
      "provenance": [],
      "collapsed_sections": []
    },
    "kernelspec": {
      "name": "python3",
      "display_name": "Python 3"
    },
    "language_info": {
      "name": "python"
    }
  },
  "cells": [
    {
      "cell_type": "markdown",
      "metadata": {
        "id": "jLxC4KBtnX6W"
      },
      "source": [
        "# Importar TensorFlow e Bibliotecas necessárias"
      ]
    },
    {
      "cell_type": "code",
      "metadata": {
        "id": "1GkKJ4DakpIl"
      },
      "source": [
        "import tensorflow as tf\n",
        "from tensorflow import keras\n",
        "from tensorflow.keras import layers, models, optimizers, metrics\n",
        "from tensorflow.keras.callbacks import ModelCheckpoint, EarlyStopping,TensorBoard, ReduceLROnPlateau\n",
        "from tensorflow.keras.layers import Dense, Dropout, Activation, Flatten, Conv2D, MaxPooling2D\n",
        "from tensorflow.keras.layers import BatchNormalization, ReLU, LeakyReLU, Activation, GlobalAveragePooling2D\n",
        "from tensorflow.keras.models import Sequential, Model\n",
        "from tensorflow.keras.optimizers import Adam\n",
        "from tensorflow.keras.preprocessing.image import ImageDataGenerator\n",
        "from tensorflow.keras.applications.mobilenet_v2 import MobileNetV2\n",
        "from tensorflow.keras import backend as K\n",
        "import numpy as np\n",
        "\n",
        "import os\n",
        "import pathlib\n",
        "import matplotlib.pyplot as plt\n",
        "import csv\n",
        "\n",
        "from PIL import Image\n",
        "import IPython.display as display\n",
        "\n",
        "import seaborn as sn\n",
        "import pandas as pd\n",
        "import imageio\n",
        "import glob\n",
        "import time\n",
        "from IPython import display\n",
        "%matplotlib inline\n",
        "import cv2\n",
        "\n",
        "\n",
        "import collections"
      ],
      "execution_count": null,
      "outputs": []
    },
    {
      "cell_type": "markdown",
      "metadata": {
        "id": "CfNXwFykvkHh"
      },
      "source": [
        "# Funções Auxiliares"
      ]
    },
    {
      "cell_type": "code",
      "metadata": {
        "id": "JlyQKnpCvmoQ"
      },
      "source": [
        "def generate_and_save_images(model, epoch, test_input):\n",
        "    m, v = enc(test_input, training=False)\n",
        "    latent = final([m,  v])\n",
        "    predictions = dec(latent, training=False)\n",
        "    print(predictions.shape)\n",
        "    fig = plt.figure(figsize=(4,4))\n",
        "\n",
        "    for i in range(predictions.shape[0]):\n",
        "        plt.subplot(5, 5, i+1)\n",
        "        plt.imshow(predictions[i, :, :, 0] * 255, cmap='gray')\n",
        "        plt.axis('off')\n",
        "\n",
        "    plt.savefig('fashion/images/image_at_epoch_{:d}.png'.format(epoch))\n",
        "    plt.show()"
      ],
      "execution_count": null,
      "outputs": []
    },
    {
      "cell_type": "markdown",
      "metadata": {
        "id": "g6IIKF5en9c_"
      },
      "source": [
        "# Carregar e preparar o dataset"
      ]
    },
    {
      "cell_type": "code",
      "metadata": {
        "id": "Pbm2AMmrn-Rw"
      },
      "source": [
        "(x_train, y_train), (x_test, y_test) = tf.keras.datasets.fashion_mnist.load_data()\n",
        "x_train = x_train.reshape(x_train.shape[0], 28, 28, 1).astype('float32')\n",
        "x_test = x_test.astype('float32')\n",
        "#x_train = x_train / 255.\n",
        "x_test = x_test / 255.\n",
        "# Batch e fazer shuffle dos dados\n",
        "train_dataset = tf.data.Dataset.from_tensor_slices(x_train).\\\n",
        "shuffle(60000).batch(128)\n"
      ],
      "execution_count": null,
      "outputs": []
    },
    {
      "cell_type": "code",
      "metadata": {
        "colab": {
          "base_uri": "https://localhost:8080/",
          "height": 575
        },
        "id": "wDD5lgS0txcD",
        "outputId": "2fbcb5e8-d6d8-44be-bc7a-a852506f2311"
      },
      "source": [
        "plt.figure(figsize=(10, 10))\n",
        "for images in train_dataset.take(1):\n",
        "    for i in range(9):\n",
        "        ax = plt.subplot(3, 3, i + 1)\n",
        "        plt.imshow(images[i,:,:,0].numpy().astype(\"uint8\"), cmap='gray')\n",
        "        plt.axis(\"off\")"
      ],
      "execution_count": null,
      "outputs": [
        {
          "output_type": "display_data",
          "data": {
            "image/png": "[encoded data removed]",
            "text/plain": [
              "<Figure size 720x720 with 9 Axes>"
            ]
          },
          "metadata": {
            "tags": [],
            "needs_background": "light"
          }
        }
      ]
    },
    {
      "cell_type": "markdown",
      "metadata": {
        "id": "-o-Crw5Jt7vw"
      },
      "source": [
        "# Configurações"
      ]
    },
    {
      "cell_type": "code",
      "metadata": {
        "id": "Pq6BSNRDt9lp"
      },
      "source": [
        "normalization_layer = layers.experimental.preprocessing.Rescaling(scale= 1./255)"
      ],
      "execution_count": null,
      "outputs": []
    },
    {
      "cell_type": "code",
      "metadata": {
        "id": "hJglC7I_t-68"
      },
      "source": [
        "normalized_ds = train_dataset.map(lambda x: normalization_layer(x))\n",
        "image_batch = next(iter(normalized_ds))\n",
        "first_image = image_batch[0]"
      ],
      "execution_count": null,
      "outputs": []
    },
    {
      "cell_type": "code",
      "metadata": {
        "id": "amDwL89NuAqG"
      },
      "source": [
        "input_encoder = (28, 28, 1)\n",
        "input_decoder = (2,)"
      ],
      "execution_count": null,
      "outputs": []
    },
    {
      "cell_type": "code",
      "metadata": {
        "id": "0vFvWu5CuFG4"
      },
      "source": [
        "def sampling_model(distribution_params):\n",
        "    mean, log_var = distribution_params\n",
        "    epsilon = K.random_normal(shape=K.shape(mean), mean=0., stddev=1.)\n",
        "    print(epsilon)\n",
        "    return mean + K.exp(log_var / 2) * epsilon"
      ],
      "execution_count": null,
      "outputs": []
    },
    {
      "cell_type": "code",
      "metadata": {
        "colab": {
          "base_uri": "https://localhost:8080/"
        },
        "id": "mqhKIvCquGji",
        "outputId": "bc719da3-cc8e-4d49-d1b6-c6c09fb3344d"
      },
      "source": [
        "sampling_model"
      ],
      "execution_count": null,
      "outputs": [
        {
          "output_type": "execute_result",
          "data": {
            "text/plain": [
              "<function __main__.sampling_model>"
            ]
          },
          "metadata": {
            "tags": []
          },
          "execution_count": 62
        }
      ]
    },
    {
      "cell_type": "markdown",
      "metadata": {
        "id": "rXtb2ddBoYuX"
      },
      "source": [
        "# Definir Encoder"
      ]
    },
    {
      "cell_type": "code",
      "metadata": {
        "id": "sPcqj_oUobFK"
      },
      "source": [
        "def encoder(input_encoder):\n",
        "  \n",
        "    inputs = keras.Input(shape=input_encoder, name='input_layer')\n",
        "\n",
        "    # Block-1\n",
        "    x = layers.Conv2D(32, kernel_size=3, strides= 1, padding='same', name='conv_1')(inputs)\n",
        "    x = layers.BatchNormalization(name='bn_1')(x)\n",
        "    x = layers.LeakyReLU(name='lrelu_1')(x)\n",
        "    \n",
        "    # Block-2\n",
        "    x = layers.Conv2D(64, kernel_size=3, strides= 2, padding='same', name='conv_2')(x)\n",
        "    x = layers.BatchNormalization(name='bn_2')(x)\n",
        "    x = layers.LeakyReLU(name='lrelu_2')(x)\n",
        "    \n",
        "    # Block-3\n",
        "    x = layers.Conv2D(64, 3, 2, padding='same', name='conv_3')(x)\n",
        "    x = layers.BatchNormalization(name='bn_3')(x)\n",
        "    x = layers.LeakyReLU(name='lrelu_3')(x)\n",
        "  \n",
        "    # Block-4\n",
        "    x = layers.Conv2D(64, 3, 1, padding='same', name='conv_4')(x)\n",
        "    x = layers.BatchNormalization(name='bn_4')(x)\n",
        "    x = layers.LeakyReLU(name='lrelu_4')(x)\n",
        "   \n",
        "    # Final Block\n",
        "    flatten = layers.Flatten()(x)\n",
        "    mean = layers.Dense(2, name='mean')(flatten)\n",
        "    log_var = layers.Dense(2, name='log_var')(flatten)\n",
        "    model = tf.keras.Model(inputs, (mean, log_var), name=\"Encoder\")\n",
        "    return model"
      ],
      "execution_count": null,
      "outputs": []
    },
    {
      "cell_type": "code",
      "metadata": {
        "id": "gnJjlOBRuJ5i"
      },
      "source": [
        "enc = encoder(input_encoder)"
      ],
      "execution_count": null,
      "outputs": []
    },
    {
      "cell_type": "code",
      "metadata": {
        "colab": {
          "base_uri": "https://localhost:8080/"
        },
        "id": "YqNI7SAyuLRs",
        "outputId": "b464d3c5-2d60-4cb9-c0c2-9434392b104d"
      },
      "source": [
        "enc.output"
      ],
      "execution_count": null,
      "outputs": [
        {
          "output_type": "execute_result",
          "data": {
            "text/plain": [
              "(<KerasTensor: shape=(None, 2) dtype=float32 (created by layer 'mean')>,\n",
              " <KerasTensor: shape=(None, 2) dtype=float32 (created by layer 'log_var')>)"
            ]
          },
          "metadata": {
            "tags": []
          },
          "execution_count": 65
        }
      ]
    },
    {
      "cell_type": "code",
      "metadata": {
        "colab": {
          "base_uri": "https://localhost:8080/"
        },
        "id": "nHXjWy0uu6h5",
        "outputId": "e00fa450-edeb-4e5a-9d4a-b6c0e38ccf1b"
      },
      "source": [
        "#enc.save('vae-fashion-enc.h5')"
      ],
      "execution_count": null,
      "outputs": [
        {
          "output_type": "stream",
          "text": [
            "WARNING:tensorflow:Compiled the loaded model, but the compiled metrics have yet to be built. `model.compile_metrics` will be empty until you train or evaluate the model.\n"
          ],
          "name": "stdout"
        }
      ]
    },
    {
      "cell_type": "markdown",
      "metadata": {
        "id": "d5ZTBOwaogR8"
      },
      "source": [
        "# Definir Sampling Network"
      ]
    },
    {
      "cell_type": "code",
      "metadata": {
        "id": "lISiZqDiuQW8"
      },
      "source": [
        "input_1 = (2,)\n",
        "input_2 = (2,)"
      ],
      "execution_count": null,
      "outputs": []
    },
    {
      "cell_type": "code",
      "metadata": {
        "id": "smEVOdWbolsT"
      },
      "source": [
        "def sampling(input_1,input_2):\n",
        "    mean = keras.Input(shape=input_1, name='input_layer1')\n",
        "    log_var = keras.Input(shape=input_2, name='input_layer2')\n",
        "    out = layers.Lambda(sampling_model, name='encoder_output')([mean, log_var])\n",
        "    enc_2 = tf.keras.Model([mean,log_var], out,  name=\"Encoder_2\")\n",
        "    return enc_2"
      ],
      "execution_count": null,
      "outputs": []
    },
    {
      "cell_type": "code",
      "metadata": {
        "colab": {
          "base_uri": "https://localhost:8080/"
        },
        "id": "fHHOH3h8uSBF",
        "outputId": "fab77a8d-4da0-462a-fcf3-aa4d170e4e06"
      },
      "source": [
        "final = sampling(input_1,input_2)"
      ],
      "execution_count": null,
      "outputs": [
        {
          "output_type": "stream",
          "text": [
            "Tensor(\"encoder_output/random_normal:0\", shape=(None, 2), dtype=float32)\n"
          ],
          "name": "stdout"
        }
      ]
    },
    {
      "cell_type": "code",
      "metadata": {
        "id": "9yBXehbWu-2n"
      },
      "source": [
        "# final.save('sampling.h5')"
      ],
      "execution_count": null,
      "outputs": []
    },
    {
      "cell_type": "markdown",
      "metadata": {
        "id": "iFVwYHDuos_3"
      },
      "source": [
        "# Definir o Decoder"
      ]
    },
    {
      "cell_type": "code",
      "metadata": {
        "id": "uRaT8qS3ouot"
      },
      "source": [
        "def decoder(input_decoder):\n",
        "    \n",
        "    inputs = keras.Input(shape=input_decoder, name='input_layer')\n",
        "    x = layers.Dense(3136, name='dense_1')(inputs)\n",
        "    x = layers.Reshape((7, 7, 64), name='Reshape_Layer')(x)\n",
        "   \n",
        "    # Block-1\n",
        "    x = layers.Conv2DTranspose(64, 3, strides= 1, padding='same',name='conv_transpose_1')(x)\n",
        "    x = layers.BatchNormalization(name='bn_1')(x)\n",
        "    x = layers.LeakyReLU(name='lrelu_1')(x)\n",
        "  \n",
        "    # Block-2\n",
        "    x = layers.Conv2DTranspose(64, 3, strides= 2, padding='same', name='conv_transpose_2')(x)\n",
        "    x = layers.BatchNormalization(name='bn_2')(x)\n",
        "    x = layers.LeakyReLU(name='lrelu_2')(x)\n",
        "    \n",
        "    # Block-3\n",
        "    x = layers.Conv2DTranspose(32, 3, 2, padding='same', name='conv_transpose_3')(x)\n",
        "    x = layers.BatchNormalization(name='bn_3')(x)\n",
        "    x = layers.LeakyReLU(name='lrelu_3')(x)\n",
        "    \n",
        "    # Block-4\n",
        "    outputs = layers.Conv2DTranspose(1, 3, 1,padding='same', activation='sigmoid', name='conv_transpose_4')(x)\n",
        "    model = tf.keras.Model(inputs, outputs, name=\"Decoder\")\n",
        "    return model"
      ],
      "execution_count": null,
      "outputs": []
    },
    {
      "cell_type": "code",
      "metadata": {
        "id": "NsnFg3o2uy_r"
      },
      "source": [
        "dec = decoder(input_decoder)"
      ],
      "execution_count": null,
      "outputs": []
    },
    {
      "cell_type": "code",
      "metadata": {
        "id": "Q-ANUWz5vAP5"
      },
      "source": [
        "# dec.save('vae-fashion-dec.h5')"
      ],
      "execution_count": null,
      "outputs": []
    },
    {
      "cell_type": "markdown",
      "metadata": {
        "id": "2a0lEK_1oyDw"
      },
      "source": [
        "# Optimizer e função de Loss"
      ]
    },
    {
      "cell_type": "code",
      "metadata": {
        "colab": {
          "base_uri": "https://localhost:8080/"
        },
        "id": "zVWuWe0zo0rF",
        "outputId": "b8cc76b8-7c89-4140-b7f1-f7172764a6ba"
      },
      "source": [
        "optimizer = tf.keras.optimizers.Adam(lr = 0.0005)\n",
        "\n",
        "def mse_loss(y_true, y_pred):\n",
        "    r_loss = K.mean(K.square(y_true - y_pred), axis = [1,2,3])\n",
        "    return 1000 * r_loss\n",
        "\n",
        "def kl_loss(mean, log_var):\n",
        "    kl_loss =  -0.5 * K.sum(1 + log_var - K.square(mean) - K.exp(log_var), axis = 1)\n",
        "    return kl_loss\n",
        "\n",
        "def vae_loss(y_true, y_pred, mean, log_var):\n",
        "    r_loss = mse_loss(y_true, y_pred)\n",
        "    varkl_loss = kl_loss(mean, log_var)\n",
        "    return  r_loss + varkl_loss"
      ],
      "execution_count": null,
      "outputs": [
        {
          "output_type": "stream",
          "text": [
            "/usr/local/lib/python3.7/dist-packages/tensorflow/python/keras/optimizer_v2/optimizer_v2.py:375: UserWarning: The `lr` argument is deprecated, use `learning_rate` instead.\n",
            "  \"The `lr` argument is deprecated, use `learning_rate` instead.\")\n"
          ],
          "name": "stderr"
        }
      ]
    },
    {
      "cell_type": "code",
      "metadata": {
        "id": "ZcwGtswbvJ7Y"
      },
      "source": [
        "os.makedirs('fashion/training_weights', exist_ok=True)\n",
        "os.makedirs('fashion/images', exist_ok=True)"
      ],
      "execution_count": null,
      "outputs": []
    },
    {
      "cell_type": "markdown",
      "metadata": {
        "id": "VC8Gk8kco9to"
      },
      "source": [
        "# Treinar o VAE"
      ]
    },
    {
      "cell_type": "code",
      "metadata": {
        "id": "LFHWWSi2pBFU"
      },
      "source": [
        "@tf.function\n",
        "def train_step(images):\n",
        "\n",
        "    with tf.GradientTape() as encoder, tf.GradientTape() as decoder:\n",
        "      \n",
        "        mean, log_var = enc(images, training=True)\n",
        "        latent = final([mean, log_var])\n",
        "        generated_images = dec(latent, training=True)\n",
        "        loss = vae_loss(images, generated_images, mean, log_var)\n",
        "\n",
        "        \n",
        "    gradients_of_enc = encoder.gradient(loss, enc.trainable_variables)\n",
        "    gradients_of_dec = decoder.gradient(loss, dec.trainable_variables)\n",
        "    \n",
        "    \n",
        "    optimizer.apply_gradients(zip(gradients_of_enc, enc.trainable_variables))\n",
        "    optimizer.apply_gradients(zip(gradients_of_dec, dec.trainable_variables))\n",
        "    return loss"
      ],
      "execution_count": null,
      "outputs": []
    },
    {
      "cell_type": "code",
      "metadata": {
        "id": "g73SWB4PpGLV"
      },
      "source": [
        "def train(dataset, epochs):\n",
        "    for epoch in range(epochs):\n",
        "        start = time.time()\n",
        "        i = 0\n",
        "        loss_ = []\n",
        "        for image_batch in dataset:\n",
        "            i += 1\n",
        "            loss = train_step(image_batch)\n",
        " \n",
        "        seed = image_batch[:25]\n",
        "        display.clear_output(wait=True)\n",
        "        generate_and_save_images([enc,final,dec],\n",
        "                                  epoch + 1,\n",
        "                                  seed)\n",
        "        enc.save_weights('fashion/training_weights/enc_'+ str(epoch)+'.h5')\n",
        "        dec.save_weights('fashion/training_weights/dec_'+ str(epoch)+'.h5')\n",
        "        print ('Time for epoch {} is {} sec'.format(epoch + 1, time.time()-start))\n",
        "\n",
        "    display.clear_output(wait=True)\n",
        "    generate_and_save_images([enc,final,dec],\n",
        "                            epochs,\n",
        "                            seed)"
      ],
      "execution_count": null,
      "outputs": []
    },
    {
      "cell_type": "code",
      "metadata": {
        "colab": {
          "base_uri": "https://localhost:8080/",
          "height": 702
        },
        "id": "ZykufVzzpHtr",
        "outputId": "50694dfb-97c7-4094-f77a-fb0b9f7e64b8"
      },
      "source": [
        "train(normalized_ds, 25)"
      ],
      "execution_count": null,
      "outputs": [
        {
          "output_type": "stream",
          "text": [
            "tf.Tensor(\n",
            "[[ 1.0295807  -0.557746  ]\n",
            " [ 1.7888606   2.1655755 ]\n",
            " [ 1.6441828  -0.48512495]\n",
            " [-1.5839143   0.7622374 ]\n",
            " [ 0.64062613  1.0945383 ]\n",
            " [-0.8134428   1.042777  ]\n",
            " [ 0.80109906  0.36839634]\n",
            " [ 1.1113083  -0.10451369]\n",
            " [-1.3298469   1.603768  ]\n",
            " [ 1.1491189   2.1967976 ]\n",
            " [-1.4130782   1.3696198 ]\n",
            " [ 0.84047425 -0.84131426]\n",
            " [-2.1033807  -0.0054421 ]\n",
            " [ 0.47797132  1.8882996 ]\n",
            " [-0.5515232  -0.33097908]\n",
            " [-1.7531039   0.55957705]\n",
            " [-0.08413002 -0.34726584]\n",
            " [-0.4284719   1.5705868 ]\n",
            " [-0.10816126  1.4472191 ]\n",
            " [ 1.245133    1.1431113 ]\n",
            " [ 0.3319387   2.2727473 ]\n",
            " [-2.294506   -1.8756561 ]\n",
            " [-0.02960551 -0.25020385]\n",
            " [ 0.1548291  -1.2464991 ]\n",
            " [-0.03547772 -0.72539103]], shape=(25, 2), dtype=float32)\n",
            "(25, 28, 28, 1)\n"
          ],
          "name": "stdout"
        },
        {
          "output_type": "display_data",
          "data": {
            "image/png": "[encoded data removed]",
            "text/plain": [
              "<Figure size 288x288 with 25 Axes>"
            ]
          },
          "metadata": {
            "tags": [],
            "needs_background": "light"
          }
        }
      ]
    },
    {
      "cell_type": "markdown",
      "metadata": {
        "id": "541n3fdsXWqF"
      },
      "source": [
        "# Load dos pesos"
      ]
    },
    {
      "cell_type": "code",
      "metadata": {
        "id": "hW_ZygSgvswj"
      },
      "source": [
        "enc.load_weights('fashion/training_weights/enc_24.h5')\n",
        "dec.load_weights('fashion/training_weights/dec_24.h5')"
      ],
      "execution_count": null,
      "outputs": []
    },
    {
      "cell_type": "markdown",
      "metadata": {
        "id": "36iMNlMNEFbN"
      },
      "source": [
        "# Resultados"
      ]
    },
    {
      "cell_type": "code",
      "metadata": {
        "id": "RTgqOEfgEUyo"
      },
      "source": [
        "label_dict = {\n",
        " 0: 'T-shirt/top',\n",
        " 1: 'Trouser',\n",
        " 2: 'Pullover',\n",
        " 3: 'Dress',\n",
        " 4: 'Coat',\n",
        " 5: 'Sandal',\n",
        " 6: 'Shirt',\n",
        " 7: 'Sneaker',\n",
        " 8: 'Bag',\n",
        " 9: 'Ankle boot',\n",
        "}"
      ],
      "execution_count": null,
      "outputs": []
    },
    {
      "cell_type": "markdown",
      "metadata": {
        "id": "Kbmv25-0X2uY"
      },
      "source": [
        "Reconstruir através de um vetor de latentes"
      ]
    },
    {
      "cell_type": "code",
      "metadata": {
        "colab": {
          "base_uri": "https://localhost:8080/",
          "height": 237
        },
        "id": "9RS02QtDEHFk",
        "outputId": "4039c41b-126d-4ccf-a78f-23185ff25079"
      },
      "source": [
        "figsize = 15\n",
        "\n",
        "x = np.random.normal(size = (10,2))\n",
        "#x = np.random.uniform(size = (10,200))\n",
        "reconstruct = dec.predict(x)\n",
        "\n",
        "\n",
        "fig = plt.figure(figsize=(figsize, 10))\n",
        "\n",
        "for i in range(10):\n",
        "    ax = fig.add_subplot(5, 5, i+1)\n",
        "    ax.axis('off')\n",
        "    ax.imshow(reconstruct[i, :,:,0]*255, cmap = 'gray')"
      ],
      "execution_count": null,
      "outputs": [
        {
          "output_type": "display_data",
          "data": {
            "image/png": "[encoded data removed]",
            "text/plain": [
              "<Figure size 1080x720 with 10 Axes>"
            ]
          },
          "metadata": {
            "tags": [],
            "needs_background": "light"
          }
        }
      ]
    },
    {
      "cell_type": "markdown",
      "metadata": {
        "id": "Vs6ACpFoX6RR"
      },
      "source": [
        "Reconstuir através do set de testes"
      ]
    },
    {
      "cell_type": "code",
      "metadata": {
        "colab": {
          "base_uri": "https://localhost:8080/",
          "height": 1000
        },
        "id": "Ux5eeYBmENZR",
        "outputId": "9e2aae0c-703a-4b5f-bf8a-da34bb812584"
      },
      "source": [
        "figsize = 15\n",
        "\n",
        "m, v = enc.predict(x_test[:25])\n",
        "latent = final([m,v])\n",
        "reconst = dec.predict(latent)\n",
        "\n",
        "fig = plt.figure(figsize=(figsize, 10))\n",
        "\n",
        "for i in range(25):\n",
        "    ax = fig.add_subplot(5, 5, i+1)\n",
        "    ax.axis('off')\n",
        "    ax.text(0.5, -0.15, str(label_dict[y_test[i]]), fontsize=10, ha='center', transform=ax.transAxes)\n",
        "    \n",
        "    ax.imshow(reconst[i, :,:,0]*255, cmap = 'gray')"
      ],
      "execution_count": null,
      "outputs": [
        {
          "output_type": "stream",
          "text": [
            "tf.Tensor(\n",
            "[[ 1.3993096   0.3797263 ]\n",
            " [ 0.2807128  -0.89685345]\n",
            " [ 1.4186985   0.14058484]\n",
            " [ 1.0828744  -0.04841368]\n",
            " [ 1.1899732  -0.7973679 ]\n",
            " [-1.3003575  -1.4416442 ]\n",
            " [-2.4525552  -0.63454336]\n",
            " [ 0.5956231   0.5041341 ]\n",
            " [ 0.36278236 -1.1710256 ]\n",
            " [ 0.75916445  0.15079913]\n",
            " [ 1.0046477   0.50602454]\n",
            " [-1.2919978  -1.4091156 ]\n",
            " [-1.0563614   0.56867284]\n",
            " [-0.23638377  0.39017418]\n",
            " [-0.6951189   0.4052793 ]\n",
            " [ 0.1138399   0.59913486]\n",
            " [-1.6210603   0.12948288]\n",
            " [-1.6241211   0.5917921 ]\n",
            " [-0.21054962  1.7738178 ]\n",
            " [ 0.15288612  0.76619273]\n",
            " [-0.35490003  0.06249958]\n",
            " [ 0.25883526  0.19898169]\n",
            " [-0.83027786 -0.5617517 ]\n",
            " [-2.2855647  -0.03322942]\n",
            " [-1.3560567   0.6160971 ]], shape=(25, 2), dtype=float32)\n"
          ],
          "name": "stdout"
        },
        {
          "output_type": "display_data",
          "data": {
            "image/png": "[encoded data removed]",
            "text/plain": [
              "<Figure size 1080x720 with 25 Axes>"
            ]
          },
          "metadata": {
            "tags": [],
            "needs_background": "light"
          }
        }
      ]
    }
  ]
}