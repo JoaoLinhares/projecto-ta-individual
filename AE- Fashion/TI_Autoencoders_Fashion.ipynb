{
  "nbformat": 4,
  "nbformat_minor": 0,
  "metadata": {
    "colab": {
      "name": "TI_Autoencoders_Fashion.ipynb",
      "provenance": [],
      "collapsed_sections": []
    },
    "kernelspec": {
      "name": "python3",
      "display_name": "Python 3"
    },
    "language_info": {
      "name": "python"
    }
  },
  "cells": [
    {
      "cell_type": "markdown",
      "metadata": {
        "id": "tDk3Yeia69LW"
      },
      "source": [
        "# Importar TensorFlow e Bibliotecas necessárias"
      ]
    },
    {
      "cell_type": "code",
      "metadata": {
        "id": "vBmpWprb68cb"
      },
      "source": [
        "import matplotlib.pyplot as plt\n",
        "import numpy as np\n",
        "import pandas as pd\n",
        "import tensorflow as tf\n",
        "from tensorflow import keras\n",
        "\n",
        "import os\n",
        "\n",
        "import cv2\n",
        "\n",
        "from sklearn.metrics import accuracy_score, precision_score, recall_score\n",
        "from sklearn.model_selection import train_test_split\n",
        "from tensorflow.keras import layers, losses\n",
        "from tensorflow.keras.datasets import fashion_mnist\n",
        "from tensorflow.keras.layers import BatchNormalization\n",
        "from tensorflow.keras.layers import Conv2D\n",
        "from tensorflow.keras.layers import Conv2DTranspose\n",
        "from tensorflow.keras.layers import LeakyReLU\n",
        "from tensorflow.keras.layers import Activation\n",
        "from tensorflow.keras.layers import Flatten\n",
        "from tensorflow.keras.layers import Dense\n",
        "from tensorflow.keras.layers import Reshape\n",
        "from tensorflow.keras.layers import Input\n",
        "from tensorflow.keras.models import Model\n",
        "from tensorflow.keras import backend as K\n",
        "from tensorflow.keras.optimizers import Adam\n",
        "from tensorflow.keras.datasets import mnist"
      ],
      "execution_count": 1,
      "outputs": []
    },
    {
      "cell_type": "markdown",
      "metadata": {
        "id": "rufFMS8UWYtq"
      },
      "source": [
        "# Funções Auxiliares\n"
      ]
    },
    {
      "cell_type": "code",
      "metadata": {
        "id": "aKAVo8NqWay_"
      },
      "source": [
        "def show_preds_3(set1, set2, set3, count):\n",
        "  columns = 6\n",
        "  rows = int(count*3 / columns) + 1  \n",
        "  plt.figure(figsize=(15, 2 * rows))\n",
        "  for n in range(count):\n",
        "      ax = plt.subplot(rows, columns, n*3+1)\n",
        "      plt.title(\"original\");\n",
        "      plt.imshow(set1[n], cmap=plt.get_cmap('gray'))\n",
        "      plt.axis('off')\n",
        "      ax = plt.subplot(rows, columns, n*3+2)\n",
        "      plt.title(\"reconst\");\n",
        "      plt.imshow(set2[n], cmap=plt.get_cmap('gray'))\n",
        "      plt.axis('off')\n",
        "      ax = plt.subplot(rows, columns, n*3+3)\n",
        "      plt.title(\"noisy\");\n",
        "      plt.imshow(set3[n], cmap=plt.get_cmap('gray'))\n",
        "      plt.axis('off')\n",
        "\n",
        "def show_preds(set1, set2, count):\n",
        "  columns = 4\n",
        "  rows = int(count*2 / columns) + 1  \n",
        "  plt.figure(figsize=(10, 2 * rows))\n",
        "  for n in range(count):\n",
        "      ax = plt.subplot(rows, columns, n*2+1)\n",
        "      plt.title(\"reconst\");\n",
        "      plt.imshow(set1[n], cmap=plt.get_cmap('gray'))\n",
        "      plt.axis('off')\n",
        "      ax = plt.subplot(rows, columns, n*2+2)\n",
        "      plt.title(\"original\");\n",
        "      plt.imshow(set2[n], cmap=plt.get_cmap('gray'))\n",
        "      plt.axis('off')    \n",
        "        \n",
        "def plot_scatter(x,y,train_Y):\n",
        "    cmap = colors.ListedColormap(['black', 'darkred', 'darkblue', 'darkgreen', 'yellow', 'brown', 'purple', 'lightgreen', 'red', 'lightblue'])\n",
        "    bounds=[0, 0.5, 1.5, 2.5, 3.5, 4.5, 5.5, 6.5, 7.5,8.5,9.5]\n",
        "    norm = colors.BoundaryNorm(bounds, cmap.N)\n",
        "\n",
        "    plt.figure(figsize=(10,10))\n",
        "    plt.scatter(x, y, c = train_Y, cmap=cmap, s = 1, norm=norm)\n",
        "    plt.colorbar()\n",
        "\n",
        "    plt.show()"
      ],
      "execution_count": 2,
      "outputs": []
    },
    {
      "cell_type": "markdown",
      "metadata": {
        "id": "IGh_75x97XJq"
      },
      "source": [
        "# Carregar e preparar o dataset\n"
      ]
    },
    {
      "cell_type": "code",
      "metadata": {
        "colab": {
          "base_uri": "https://localhost:8080/"
        },
        "id": "z72SQyUe7c7C",
        "outputId": "a646bc90-4dab-47d5-e9a0-84da01a18bf4"
      },
      "source": [
        "(x_train, _), (x_test, _) = fashion_mnist.load_data()\n",
        "\n",
        "# Reescalar os inputs\n",
        "x_train = x_train.astype('float32') / 255.\n",
        "x_test = x_test.astype('float32') / 255.\n",
        "\n",
        "print ('Train shape: ', x_train.shape)\n",
        "print ('Test shape: ', x_test.shape)"
      ],
      "execution_count": 3,
      "outputs": [
        {
          "output_type": "stream",
          "text": [
            "Downloading data from https://storage.googleapis.com/tensorflow/tf-keras-datasets/train-labels-idx1-ubyte.gz\n",
            "32768/29515 [=================================] - 0s 0us/step\n",
            "Downloading data from https://storage.googleapis.com/tensorflow/tf-keras-datasets/train-images-idx3-ubyte.gz\n",
            "26427392/26421880 [==============================] - 1s 0us/step\n",
            "Downloading data from https://storage.googleapis.com/tensorflow/tf-keras-datasets/t10k-labels-idx1-ubyte.gz\n",
            "8192/5148 [===============================================] - 0s 0us/step\n",
            "Downloading data from https://storage.googleapis.com/tensorflow/tf-keras-datasets/t10k-images-idx3-ubyte.gz\n",
            "4423680/4422102 [==============================] - 0s 0us/step\n",
            "Train shape:  (60000, 28, 28)\n",
            "Test shape:  (10000, 28, 28)\n"
          ],
          "name": "stdout"
        }
      ]
    },
    {
      "cell_type": "markdown",
      "metadata": {
        "id": "L_N1Pp2i_3dA"
      },
      "source": [
        "# Configuração"
      ]
    },
    {
      "cell_type": "code",
      "metadata": {
        "id": "IFReVYdv_230"
      },
      "source": [
        "HEIGHT = 32\n",
        "WIDTH = 32\n",
        "NUM_CHANNELS = 1\n",
        "BATCH_SIZE = 32\n",
        "LATENT_SPACE_DIM = 2"
      ],
      "execution_count": 4,
      "outputs": []
    },
    {
      "cell_type": "markdown",
      "metadata": {
        "id": "MIbmvA9k7-EP"
      },
      "source": [
        "# Autoencoder de reconstrução"
      ]
    },
    {
      "cell_type": "markdown",
      "metadata": {
        "id": "iMerNjzR_vA8"
      },
      "source": [
        "Arquitetura"
      ]
    },
    {
      "cell_type": "code",
      "metadata": {
        "colab": {
          "base_uri": "https://localhost:8080/"
        },
        "id": "ob5YjLN48FED",
        "outputId": "c29674e3-0de6-4bb9-82cb-0ab7cb7a83b0"
      },
      "source": [
        "inputs = Input(shape =(WIDTH, HEIGHT, NUM_CHANNELS))\n",
        "    \n",
        "# Arquitetura do Encoder    \n",
        "x = Conv2D(32, (3, 3), strides=2, padding=\"same\")(inputs)\n",
        "x = LeakyReLU(alpha=0.2)(x)\n",
        "x = BatchNormalization()(x)\n",
        "\n",
        "x = Conv2D(64, (3, 3), strides=2, padding=\"same\")(x)\n",
        "x = LeakyReLU(alpha=0.2)(x)\n",
        "x = BatchNormalization()(x)\n",
        "\n",
        "volumeSize = K.int_shape(x)\n",
        "x = Flatten()(x)\n",
        "\n",
        "# Espaço Latente\n",
        "latent = Dense(LATENT_SPACE_DIM, name=\"latent\")(x)\n",
        "\n",
        "# Arquitetura do Decoder\n",
        "latentInputs = Input(shape=(LATENT_SPACE_DIM,))\n",
        "y = Dense(np.prod(volumeSize[1:]))(latentInputs)\n",
        "y = Reshape((volumeSize[1], volumeSize[2], volumeSize[3]))(y)\n",
        "\n",
        "y = Conv2DTranspose(64, (3, 3), strides=2, padding=\"same\")(y)\n",
        "y = LeakyReLU(alpha=0.2)(y)\n",
        "y = BatchNormalization()(y) \n",
        "\n",
        "y = Conv2DTranspose(32, (3, 3), strides=2, padding=\"same\")(y)\n",
        "y = LeakyReLU(alpha=0.2)(y)\n",
        "y = BatchNormalization()(y)    \n",
        "\n",
        "y = Conv2DTranspose(NUM_CHANNELS, (3, 3), padding=\"same\")(y)\n",
        "outputs = Activation(\"sigmoid\", name=\"decoded\")(y)\n",
        "\n",
        "encoder = Model(inputs, latent, name=\"encoder\")\n",
        "decoder = Model(latentInputs, outputs, name=\"decoder\")\n",
        "\n",
        "autoencoder = Model(inputs=inputs, outputs=decoder(encoder(inputs)))\n",
        " \n",
        "# Escrever sumários do encoder e decoder\n",
        "encoder.summary() \n",
        "decoder.summary()"
      ],
      "execution_count": 5,
      "outputs": [
        {
          "output_type": "stream",
          "text": [
            "Model: \"encoder\"\n",
            "_________________________________________________________________\n",
            "Layer (type)                 Output Shape              Param #   \n",
            "=================================================================\n",
            "input_1 (InputLayer)         [(None, 32, 32, 1)]       0         \n",
            "_________________________________________________________________\n",
            "conv2d (Conv2D)              (None, 16, 16, 32)        320       \n",
            "_________________________________________________________________\n",
            "leaky_re_lu (LeakyReLU)      (None, 16, 16, 32)        0         \n",
            "_________________________________________________________________\n",
            "batch_normalization (BatchNo (None, 16, 16, 32)        128       \n",
            "_________________________________________________________________\n",
            "conv2d_1 (Conv2D)            (None, 8, 8, 64)          18496     \n",
            "_________________________________________________________________\n",
            "leaky_re_lu_1 (LeakyReLU)    (None, 8, 8, 64)          0         \n",
            "_________________________________________________________________\n",
            "batch_normalization_1 (Batch (None, 8, 8, 64)          256       \n",
            "_________________________________________________________________\n",
            "flatten (Flatten)            (None, 4096)              0         \n",
            "_________________________________________________________________\n",
            "latent (Dense)               (None, 2)                 8194      \n",
            "=================================================================\n",
            "Total params: 27,394\n",
            "Trainable params: 27,202\n",
            "Non-trainable params: 192\n",
            "_________________________________________________________________\n",
            "Model: \"decoder\"\n",
            "_________________________________________________________________\n",
            "Layer (type)                 Output Shape              Param #   \n",
            "=================================================================\n",
            "input_2 (InputLayer)         [(None, 2)]               0         \n",
            "_________________________________________________________________\n",
            "dense (Dense)                (None, 4096)              12288     \n",
            "_________________________________________________________________\n",
            "reshape (Reshape)            (None, 8, 8, 64)          0         \n",
            "_________________________________________________________________\n",
            "conv2d_transpose (Conv2DTran (None, 16, 16, 64)        36928     \n",
            "_________________________________________________________________\n",
            "leaky_re_lu_2 (LeakyReLU)    (None, 16, 16, 64)        0         \n",
            "_________________________________________________________________\n",
            "batch_normalization_2 (Batch (None, 16, 16, 64)        256       \n",
            "_________________________________________________________________\n",
            "conv2d_transpose_1 (Conv2DTr (None, 32, 32, 32)        18464     \n",
            "_________________________________________________________________\n",
            "leaky_re_lu_3 (LeakyReLU)    (None, 32, 32, 32)        0         \n",
            "_________________________________________________________________\n",
            "batch_normalization_3 (Batch (None, 32, 32, 32)        128       \n",
            "_________________________________________________________________\n",
            "conv2d_transpose_2 (Conv2DTr (None, 32, 32, 1)         289       \n",
            "_________________________________________________________________\n",
            "decoded (Activation)         (None, 32, 32, 1)         0         \n",
            "=================================================================\n",
            "Total params: 68,353\n",
            "Trainable params: 68,161\n",
            "Non-trainable params: 192\n",
            "_________________________________________________________________\n"
          ],
          "name": "stdout"
        }
      ]
    },
    {
      "cell_type": "markdown",
      "metadata": {
        "id": "IvKckCCtAn6F"
      },
      "source": [
        "Preparar o modelo"
      ]
    },
    {
      "cell_type": "code",
      "metadata": {
        "id": "7T_Sj4EOAr--"
      },
      "source": [
        "opt = Adam(learning_rate=1e-3)\n",
        "autoencoder.compile(loss=\"mse\", optimizer=opt)"
      ],
      "execution_count": 6,
      "outputs": []
    },
    {
      "cell_type": "markdown",
      "metadata": {
        "id": "XOtYvvGoA0Dl"
      },
      "source": [
        "Trainar o modelo"
      ]
    },
    {
      "cell_type": "code",
      "metadata": {
        "colab": {
          "base_uri": "https://localhost:8080/"
        },
        "id": "mzeuZ5YIAzu_",
        "outputId": "74682967-38a1-4530-89e8-b504aba23f3c"
      },
      "source": [
        "EPOCHS = 25\n",
        "\n",
        "# Treinar o autoencoder\n",
        "history = autoencoder.fit(\n",
        "\tx_train, x_train,\n",
        "\tvalidation_data=(x_test, x_test),\n",
        "\tepochs=EPOCHS,\n",
        "\tbatch_size=BATCH_SIZE)"
      ],
      "execution_count": null,
      "outputs": [
        {
          "output_type": "stream",
          "text": [
            "Epoch 1/25\n",
            "1875/1875 [==============================] - 146s 78ms/step - loss: 0.0300 - val_loss: 0.0303\n",
            "Epoch 2/25\n",
            "1875/1875 [==============================] - 147s 78ms/step - loss: 0.0299 - val_loss: 0.0295\n",
            "Epoch 3/25\n",
            "1875/1875 [==============================] - 147s 79ms/step - loss: 0.0297 - val_loss: 0.0295\n",
            "Epoch 4/25\n",
            "1875/1875 [==============================] - 147s 78ms/step - loss: 0.0297 - val_loss: 0.0296\n",
            "Epoch 5/25\n",
            "1875/1875 [==============================] - 148s 79ms/step - loss: 0.0296 - val_loss: 0.0292\n",
            "Epoch 6/25\n",
            "1875/1875 [==============================] - 150s 80ms/step - loss: 0.0295 - val_loss: 0.0301\n",
            "Epoch 7/25\n",
            "1875/1875 [==============================] - 150s 80ms/step - loss: 0.0294 - val_loss: 0.0291\n",
            "Epoch 8/25\n",
            "1875/1875 [==============================] - 148s 79ms/step - loss: 0.0294 - val_loss: 0.0292\n",
            "Epoch 9/25\n",
            "1875/1875 [==============================] - 147s 78ms/step - loss: 0.0293 - val_loss: 0.0294\n",
            "Epoch 10/25\n",
            "1875/1875 [==============================] - 147s 78ms/step - loss: 0.0293 - val_loss: 0.0291\n",
            "Epoch 11/25\n",
            "1875/1875 [==============================] - 147s 78ms/step - loss: 0.0292 - val_loss: 0.0289\n",
            "Epoch 12/25\n",
            "1875/1875 [==============================] - 147s 78ms/step - loss: 0.0292 - val_loss: 0.0293\n",
            "Epoch 13/25\n",
            "1875/1875 [==============================] - 147s 78ms/step - loss: 0.0291 - val_loss: 0.0291\n",
            "Epoch 14/25\n",
            "1875/1875 [==============================] - 147s 78ms/step - loss: 0.0291 - val_loss: 0.0290\n",
            "Epoch 15/25\n",
            "1875/1875 [==============================] - 147s 79ms/step - loss: 0.0291 - val_loss: 0.0295\n",
            "Epoch 16/25\n",
            "1875/1875 [==============================] - 148s 79ms/step - loss: 0.0290 - val_loss: 0.0289\n",
            "Epoch 17/25\n",
            "1875/1875 [==============================] - 152s 81ms/step - loss: 0.0289 - val_loss: 0.0290\n",
            "Epoch 18/25\n",
            "1875/1875 [==============================] - 150s 80ms/step - loss: 0.0289 - val_loss: 0.0288\n",
            "Epoch 19/25\n",
            "1875/1875 [==============================] - 150s 80ms/step - loss: 0.0289 - val_loss: 0.0290\n",
            "Epoch 20/25\n",
            "1875/1875 [==============================] - 152s 81ms/step - loss: 0.0288 - val_loss: 0.0287\n",
            "Epoch 21/25\n",
            "1875/1875 [==============================] - 151s 80ms/step - loss: 0.0288 - val_loss: 0.0287\n",
            "Epoch 22/25\n",
            "1875/1875 [==============================] - 150s 80ms/step - loss: 0.0288 - val_loss: 0.0288\n",
            "Epoch 23/25\n",
            "1875/1875 [==============================] - 150s 80ms/step - loss: 0.0287 - val_loss: 0.0288\n",
            "Epoch 24/25\n",
            "1875/1875 [==============================] - 151s 81ms/step - loss: 0.0287 - val_loss: 0.0286\n",
            "Epoch 25/25\n",
            "1875/1875 [==============================] - 151s 81ms/step - loss: 0.0287 - val_loss: 0.0291\n"
          ],
          "name": "stdout"
        }
      ]
    },
    {
      "cell_type": "markdown",
      "metadata": {
        "id": "fxXkU3XzVUH_"
      },
      "source": [
        "Save e Load Modelos"
      ]
    },
    {
      "cell_type": "code",
      "metadata": {
        "colab": {
          "base_uri": "https://localhost:8080/"
        },
        "id": "7aSAEUKJVXqz",
        "outputId": "1bab7573-41eb-4d24-c65c-0c741bae7c28"
      },
      "source": [
        "encoder.save('./encoderFashion{}.h5'.format(LATENT_SPACE_DIM))\n",
        "decoder.save('./decoderFashion{}.h5'.format(LATENT_SPACE_DIM))\n",
        "\n",
        "autoencoder.save('./autoencoderFashion{}.h5'.format(LATENT_SPACE_DIM))\n"
      ],
      "execution_count": null,
      "outputs": [
        {
          "output_type": "stream",
          "text": [
            "WARNING:tensorflow:Compiled the loaded model, but the compiled metrics have yet to be built. `model.compile_metrics` will be empty until you train or evaluate the model.\n",
            "WARNING:tensorflow:Compiled the loaded model, but the compiled metrics have yet to be built. `model.compile_metrics` will be empty until you train or evaluate the model.\n"
          ],
          "name": "stdout"
        }
      ]
    },
    {
      "cell_type": "code",
      "metadata": {
        "id": "3Aaas4HnVdg9"
      },
      "source": [
        "ls_dim = 2\n",
        "\n",
        "autoencoder = tf.keras.models.load_model('./autoencoderFashion{}.h5'.format(ls_dim))"
      ],
      "execution_count": 7,
      "outputs": []
    },
    {
      "cell_type": "markdown",
      "metadata": {
        "id": "VqabsmmXWPIi"
      },
      "source": [
        "Resultados"
      ]
    },
    {
      "cell_type": "code",
      "metadata": {
        "id": "EdbwR3CKWOJ-"
      },
      "source": [
        "recon = autoencoder.predict(x_test)"
      ],
      "execution_count": 8,
      "outputs": []
    },
    {
      "cell_type": "code",
      "metadata": {
        "colab": {
          "base_uri": "https://localhost:8080/",
          "height": 587
        },
        "id": "rclUT65dWT-b",
        "outputId": "5100ba9d-311d-4451-ecbc-162eab5a9815"
      },
      "source": [
        "test_XImage = (x_test * 255).astype(\"uint8\").squeeze() \n",
        "reconImage = (recon * 255).astype(\"uint8\").squeeze()\n",
        "show_preds(reconImage, test_XImage, 10)"
      ],
      "execution_count": 10,
      "outputs": [
        {
          "output_type": "display_data",
          "data": {
            "image/png": "[encoded data removed]",
            "text/plain": [
              "<Figure size 720x864 with 20 Axes>"
            ]
          },
          "metadata": {
            "tags": [],
            "needs_background": "light"
          }
        }
      ]
    },
    {
      "cell_type": "markdown",
      "metadata": {
        "id": "oAKiHbMyZAiP"
      },
      "source": [
        "# Autoencoder de Remoção de Ruído"
      ]
    },
    {
      "cell_type": "markdown",
      "metadata": {
        "id": "oiqy9vDeZJnS"
      },
      "source": [
        "Adição de ruído"
      ]
    },
    {
      "cell_type": "code",
      "metadata": {
        "id": "Kflm2DbsZFmQ"
      },
      "source": [
        "noisyTrain = x_train.copy()\n",
        "noisyTest = x_test.copy()\n",
        "\n",
        "prob = 0.1\n",
        "\n",
        "for i in range(len(noisyTrain)):\n",
        "    probs = np.random.random(noisyTrain.shape[1:])\n",
        "    noisyTrain[i][probs < (prob / 2)] = 0\n",
        "    noisyTrain[i][probs > 1 - (prob / 2)] = 1\n",
        "    \n",
        "for i in range(len(noisyTest)):\n",
        "    probs = np.random.random(noisyTrain.shape[1:])\n",
        "    noisyTest[i][probs < (prob / 2)] = 0\n",
        "    noisyTest[i][probs > 1 - (prob / 2)] = 1"
      ],
      "execution_count": 11,
      "outputs": []
    },
    {
      "cell_type": "markdown",
      "metadata": {
        "id": "noBBxCLkZ6cu"
      },
      "source": [
        "Plot de imagem com ruído do train set"
      ]
    },
    {
      "cell_type": "code",
      "metadata": {
        "colab": {
          "base_uri": "https://localhost:8080/",
          "height": 175
        },
        "id": "QcjaHAw8Z-Jo",
        "outputId": "e71def4b-5ea8-418e-c976-7e7f0c6b7aa0"
      },
      "source": [
        "fig = plt.figure(figsize=(5, 10))\n",
        "\n",
        "ax = plt.subplot(1, 2, 1 )\n",
        "plt.imshow(x_train[10], cmap=plt.get_cmap('gray'))\n",
        "plt.axis('off')\n",
        "ax = plt.subplot(1, 2, 2 )\n",
        "plt.imshow(noisyTrain[10], cmap=plt.get_cmap('gray'))\n",
        "plt.axis('off')"
      ],
      "execution_count": null,
      "outputs": [
        {
          "output_type": "execute_result",
          "data": {
            "text/plain": [
              "(-0.5, 27.5, 27.5, -0.5)"
            ]
          },
          "metadata": {
            "tags": []
          },
          "execution_count": 24
        },
        {
          "output_type": "display_data",
          "data": {
            "image/png": "[encoded data removed]",
            "text/plain": [
              "<Figure size 360x720 with 2 Axes>"
            ]
          },
          "metadata": {
            "tags": [],
            "needs_background": "light"
          }
        }
      ]
    },
    {
      "cell_type": "markdown",
      "metadata": {
        "id": "SaoYKP4aaGJA"
      },
      "source": [
        "Criar e Treinar Autoencoder com o train set com ruído"
      ]
    },
    {
      "cell_type": "code",
      "metadata": {
        "id": "a0LT8bGoatSc"
      },
      "source": [
        "autoencoderNoise = Model(inputs=inputs, outputs=decoder(encoder(inputs)))\n",
        "\n",
        "opt = Adam(learning_rate=1e-3)\n",
        "autoencoderNoise.compile(loss=\"mse\", optimizer=opt)"
      ],
      "execution_count": 12,
      "outputs": []
    },
    {
      "cell_type": "code",
      "metadata": {
        "colab": {
          "base_uri": "https://localhost:8080/"
        },
        "id": "uSw2D03MaQNx",
        "outputId": "76234f35-9e96-43b7-9ad8-c31f8a10f6ac"
      },
      "source": [
        "# Treinar o autoencoder\n",
        "history = autoencoderNoise.fit(\n",
        "\tnoisyTrain, x_train,\n",
        "  validation_data=(noisyTest, x_test),\n",
        "\tepochs=EPOCHS,\n",
        "\tbatch_size=BATCH_SIZE)"
      ],
      "execution_count": null,
      "outputs": [
        {
          "output_type": "stream",
          "text": [
            "Epoch 1/25\n",
            "1875/1875 [==============================] - 146s 77ms/step - loss: 0.0313 - val_loss: 0.0304\n",
            "Epoch 2/25\n",
            "1875/1875 [==============================] - 145s 77ms/step - loss: 0.0304 - val_loss: 0.0302\n",
            "Epoch 3/25\n",
            "1875/1875 [==============================] - 145s 77ms/step - loss: 0.0302 - val_loss: 0.0300\n",
            "Epoch 4/25\n",
            "1875/1875 [==============================] - 144s 77ms/step - loss: 0.0301 - val_loss: 0.0300\n",
            "Epoch 5/25\n",
            "1875/1875 [==============================] - 144s 77ms/step - loss: 0.0299 - val_loss: 0.0297\n",
            "Epoch 6/25\n",
            "1875/1875 [==============================] - 145s 77ms/step - loss: 0.0299 - val_loss: 0.0298\n",
            "Epoch 7/25\n",
            "1875/1875 [==============================] - 143s 77ms/step - loss: 0.0298 - val_loss: 0.0295\n",
            "Epoch 8/25\n",
            "1875/1875 [==============================] - 144s 77ms/step - loss: 0.0297 - val_loss: 0.0296\n",
            "Epoch 9/25\n",
            "1875/1875 [==============================] - 145s 77ms/step - loss: 0.0297 - val_loss: 0.0300\n",
            "Epoch 10/25\n",
            "1875/1875 [==============================] - 145s 77ms/step - loss: 0.0296 - val_loss: 0.0298\n",
            "Epoch 11/25\n",
            "1875/1875 [==============================] - 145s 77ms/step - loss: 0.0296 - val_loss: 0.0297\n",
            "Epoch 12/25\n",
            "1875/1875 [==============================] - 144s 77ms/step - loss: 0.0296 - val_loss: 0.0298\n",
            "Epoch 13/25\n",
            "1875/1875 [==============================] - 145s 78ms/step - loss: 0.0295 - val_loss: 0.0296\n",
            "Epoch 14/25\n",
            "1875/1875 [==============================] - 146s 78ms/step - loss: 0.0295 - val_loss: 0.0294\n",
            "Epoch 15/25\n",
            "1875/1875 [==============================] - 146s 78ms/step - loss: 0.0294 - val_loss: 0.0300\n",
            "Epoch 16/25\n",
            "1875/1875 [==============================] - 147s 78ms/step - loss: 0.0294 - val_loss: 0.0295\n",
            "Epoch 17/25\n",
            "1875/1875 [==============================] - 147s 78ms/step - loss: 0.0294 - val_loss: 0.0294\n",
            "Epoch 18/25\n",
            "1875/1875 [==============================] - 146s 78ms/step - loss: 0.0294 - val_loss: 0.0294\n",
            "Epoch 19/25\n",
            "1875/1875 [==============================] - 146s 78ms/step - loss: 0.0293 - val_loss: 0.0294\n",
            "Epoch 20/25\n",
            "1875/1875 [==============================] - 146s 78ms/step - loss: 0.0293 - val_loss: 0.0296\n",
            "Epoch 21/25\n",
            "1875/1875 [==============================] - 146s 78ms/step - loss: 0.0292 - val_loss: 0.0295\n",
            "Epoch 22/25\n",
            "1875/1875 [==============================] - 145s 78ms/step - loss: 0.0292 - val_loss: 0.0296\n",
            "Epoch 23/25\n",
            "1875/1875 [==============================] - 144s 77ms/step - loss: 0.0292 - val_loss: 0.0295\n",
            "Epoch 24/25\n",
            "1875/1875 [==============================] - 143s 76ms/step - loss: 0.0292 - val_loss: 0.0295\n",
            "Epoch 25/25\n",
            "1875/1875 [==============================] - 143s 76ms/step - loss: 0.0292 - val_loss: 0.0293\n"
          ],
          "name": "stdout"
        }
      ]
    },
    {
      "cell_type": "markdown",
      "metadata": {
        "id": "oXSGZx2Vx2QF"
      },
      "source": [
        "Save autoencoder"
      ]
    },
    {
      "cell_type": "code",
      "metadata": {
        "id": "RgKfooKcx1_e"
      },
      "source": [
        "autoencoderNoise.save('autoencoderFashion_denoise.h5')"
      ],
      "execution_count": null,
      "outputs": []
    },
    {
      "cell_type": "markdown",
      "metadata": {
        "id": "MampWsOFtKe7"
      },
      "source": [
        "Load autoencoder"
      ]
    },
    {
      "cell_type": "code",
      "metadata": {
        "id": "VATtuPMytLyQ"
      },
      "source": [
        "autoencoderNoise = tf.keras.models.load_model('./autoencoderFashion_denoise.h5')"
      ],
      "execution_count": 13,
      "outputs": []
    },
    {
      "cell_type": "markdown",
      "metadata": {
        "id": "u8RY9-CYyJtH"
      },
      "source": [
        "Resultados"
      ]
    },
    {
      "cell_type": "code",
      "metadata": {
        "colab": {
          "base_uri": "https://localhost:8080/",
          "height": 731
        },
        "id": "-5Yx1RF0yLC6",
        "outputId": "c0774a65-1e37-4d4e-ba31-a02bc62b02b4"
      },
      "source": [
        "recon = autoencoderNoise.predict(noisyTest)\n",
        "print(recon.shape)\n",
        "print(x_test.shape)\n",
        "show_preds_3((x_test* 255).astype(\"uint8\").squeeze(), (recon* 255).astype(\"uint8\").squeeze(), (noisyTest* 255).astype(\"uint8\").squeeze(), 12)   "
      ],
      "execution_count": 14,
      "outputs": [
        {
          "output_type": "stream",
          "text": [
            "(10000, 28, 28, 1)\n",
            "(10000, 28, 28)\n"
          ],
          "name": "stdout"
        },
        {
          "output_type": "display_data",
          "data": {
            "image/png": "[encoded data removed]",
            "text/plain": [
              "<Figure size 1080x1008 with 36 Axes>"
            ]
          },
          "metadata": {
            "tags": [],
            "needs_background": "light"
          }
        }
      ]
    }
  ]
}